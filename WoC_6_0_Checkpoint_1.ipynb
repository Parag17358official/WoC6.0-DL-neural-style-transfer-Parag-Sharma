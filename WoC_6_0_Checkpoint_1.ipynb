{
  "nbformat": 4,
  "nbformat_minor": 0,
  "metadata": {
    "colab": {
      "provenance": []
    },
    "kernelspec": {
      "name": "python3",
      "display_name": "Python 3"
    },
    "language_info": {
      "name": "python"
    }
  },
  "cells": [
    {
      "cell_type": "code",
      "source": [
        "import numpy as np"
      ],
      "metadata": {
        "id": "eJ1PcKOgFcaS"
      },
      "execution_count": 1,
      "outputs": []
    },
    {
      "cell_type": "markdown",
      "source": [
        "# 1. np.array()"
      ],
      "metadata": {
        "id": "d-tOVRcVA3iV"
      }
    },
    {
      "cell_type": "code",
      "execution_count": null,
      "metadata": {
        "id": "frSZn3hJAxMd"
      },
      "outputs": [],
      "source": [
        "# Creating a 2-D array of 3x3 using numpy\n",
        "x = np.array([[1,11,3],[4,7,6],[7,8,9]])"
      ]
    },
    {
      "cell_type": "code",
      "source": [
        "x"
      ],
      "metadata": {
        "colab": {
          "base_uri": "https://localhost:8080/"
        },
        "id": "G5u20a7vG2yW",
        "outputId": "ec722aa6-bd0c-46d6-abad-04f6e05d5ad4"
      },
      "execution_count": null,
      "outputs": [
        {
          "output_type": "execute_result",
          "data": {
            "text/plain": [
              "array([[ 1, 11,  3],\n",
              "       [ 4,  7,  6],\n",
              "       [ 7,  8,  9]])"
            ]
          },
          "metadata": {},
          "execution_count": 33
        }
      ]
    },
    {
      "cell_type": "markdown",
      "source": [
        "# 2. np.zeros()"
      ],
      "metadata": {
        "id": "hFmrYtvKA4lG"
      }
    },
    {
      "cell_type": "code",
      "source": [
        "# Creating a 2-D zero array  of 3x3\n",
        "y = np.zeros((3,3))"
      ],
      "metadata": {
        "id": "SaAHiTEUA42Y"
      },
      "execution_count": null,
      "outputs": []
    },
    {
      "cell_type": "code",
      "source": [
        "y"
      ],
      "metadata": {
        "colab": {
          "base_uri": "https://localhost:8080/"
        },
        "id": "H3anp-sWIBYd",
        "outputId": "1ed643cf-d5fb-4df8-8a98-19a0308667d1"
      },
      "execution_count": null,
      "outputs": [
        {
          "output_type": "execute_result",
          "data": {
            "text/plain": [
              "array([[0., 0., 0.],\n",
              "       [0., 0., 0.],\n",
              "       [0., 0., 0.]])"
            ]
          },
          "metadata": {},
          "execution_count": 35
        }
      ]
    },
    {
      "cell_type": "markdown",
      "source": [
        "# 3. np.ones()"
      ],
      "metadata": {
        "id": "yGcFjUCvA4_6"
      }
    },
    {
      "cell_type": "code",
      "source": [
        "# Creating a 2-D array of 3x3 with all 1\n",
        "z = np.ones((3,3))"
      ],
      "metadata": {
        "id": "sgbVuErUA5IT"
      },
      "execution_count": null,
      "outputs": []
    },
    {
      "cell_type": "code",
      "source": [
        "z"
      ],
      "metadata": {
        "colab": {
          "base_uri": "https://localhost:8080/"
        },
        "id": "BzFOFOdIIN87",
        "outputId": "53eaa6de-a2ac-474c-a8d6-6ac099faf44a"
      },
      "execution_count": null,
      "outputs": [
        {
          "output_type": "execute_result",
          "data": {
            "text/plain": [
              "array([[1., 1., 1.],\n",
              "       [1., 1., 1.],\n",
              "       [1., 1., 1.]])"
            ]
          },
          "metadata": {},
          "execution_count": 37
        }
      ]
    },
    {
      "cell_type": "markdown",
      "source": [
        "# 4. np.reshape()"
      ],
      "metadata": {
        "id": "CNlJ5AkXA5SY"
      }
    },
    {
      "cell_type": "code",
      "source": [
        "# reshaping an array from 3x3 to 9x1\n",
        "\n",
        "t = x.copy()"
      ],
      "metadata": {
        "id": "Dn4t8FwHA5aN"
      },
      "execution_count": null,
      "outputs": []
    },
    {
      "cell_type": "code",
      "source": [
        "t"
      ],
      "metadata": {
        "colab": {
          "base_uri": "https://localhost:8080/"
        },
        "id": "oVfgVEbHIhsd",
        "outputId": "7d8ee7d4-3ba6-48eb-a01d-6d35fdc75e2d"
      },
      "execution_count": null,
      "outputs": [
        {
          "output_type": "execute_result",
          "data": {
            "text/plain": [
              "array([[ 1, 11,  3],\n",
              "       [ 4,  7,  6],\n",
              "       [ 7,  8,  9]])"
            ]
          },
          "metadata": {},
          "execution_count": 39
        }
      ]
    },
    {
      "cell_type": "code",
      "source": [
        "t.reshape(9,1)"
      ],
      "metadata": {
        "colab": {
          "base_uri": "https://localhost:8080/"
        },
        "id": "goLPOX3xIlG3",
        "outputId": "cd44978a-ae14-4a13-a8eb-91a4fd4bf160"
      },
      "execution_count": null,
      "outputs": [
        {
          "output_type": "execute_result",
          "data": {
            "text/plain": [
              "array([[ 1],\n",
              "       [11],\n",
              "       [ 3],\n",
              "       [ 4],\n",
              "       [ 7],\n",
              "       [ 6],\n",
              "       [ 7],\n",
              "       [ 8],\n",
              "       [ 9]])"
            ]
          },
          "metadata": {},
          "execution_count": 40
        }
      ]
    },
    {
      "cell_type": "markdown",
      "source": [
        "# 5. np.concatenate()\n",
        "\n",
        "\n",
        "\n"
      ],
      "metadata": {
        "id": "p2euwgqEA5i-"
      }
    },
    {
      "cell_type": "code",
      "source": [
        "#  use np.concatenate\n",
        "\n",
        "a = np.array([1, 2, 3])\n",
        "b = np.array([4, 5, 6])\n",
        "c =np.concatenate([a, b])\n"
      ],
      "metadata": {
        "id": "QGIdiJvXA5qU"
      },
      "execution_count": null,
      "outputs": []
    },
    {
      "cell_type": "code",
      "source": [
        "c"
      ],
      "metadata": {
        "colab": {
          "base_uri": "https://localhost:8080/"
        },
        "id": "6vhxfggKJnfm",
        "outputId": "65c20286-32f8-496a-dc6b-a91a07a3b9e5"
      },
      "execution_count": null,
      "outputs": [
        {
          "output_type": "execute_result",
          "data": {
            "text/plain": [
              "array([1, 2, 3, 4, 5, 6])"
            ]
          },
          "metadata": {},
          "execution_count": 42
        }
      ]
    },
    {
      "cell_type": "markdown",
      "source": [
        "# 6. np.mean()"
      ],
      "metadata": {
        "id": "1wB3jhkzA51J"
      }
    },
    {
      "cell_type": "code",
      "source": [
        "# taking mean of t\n",
        "np.mean(t)"
      ],
      "metadata": {
        "colab": {
          "base_uri": "https://localhost:8080/"
        },
        "id": "kBSxafNYA6Ay",
        "outputId": "3c3f0487-0db9-4a04-cfcd-87d4d04a83a6"
      },
      "execution_count": null,
      "outputs": [
        {
          "output_type": "execute_result",
          "data": {
            "text/plain": [
              "6.222222222222222"
            ]
          },
          "metadata": {},
          "execution_count": 43
        }
      ]
    },
    {
      "cell_type": "markdown",
      "source": [
        "# 7. np.sum()"
      ],
      "metadata": {
        "id": "3p7FZ9JGBbxt"
      }
    },
    {
      "cell_type": "code",
      "source": [
        "# taking sum of t\n",
        "np.sum(t)"
      ],
      "metadata": {
        "colab": {
          "base_uri": "https://localhost:8080/"
        },
        "id": "1zDzLhH7Bb74",
        "outputId": "f4da207d-c4a1-466e-b0aa-2a428cee13d8"
      },
      "execution_count": null,
      "outputs": [
        {
          "output_type": "execute_result",
          "data": {
            "text/plain": [
              "56"
            ]
          },
          "metadata": {},
          "execution_count": 44
        }
      ]
    },
    {
      "cell_type": "markdown",
      "source": [
        "# 8. np.min()"
      ],
      "metadata": {
        "id": "NklfHABWBcFa"
      }
    },
    {
      "cell_type": "code",
      "source": [
        "# taking min of t\n",
        "np.min(t)"
      ],
      "metadata": {
        "colab": {
          "base_uri": "https://localhost:8080/"
        },
        "id": "R5gB-MjvBcNs",
        "outputId": "4abf08e1-ab6a-4c78-ccf3-e85dfd9dd1ea"
      },
      "execution_count": null,
      "outputs": [
        {
          "output_type": "execute_result",
          "data": {
            "text/plain": [
              "1"
            ]
          },
          "metadata": {},
          "execution_count": 45
        }
      ]
    },
    {
      "cell_type": "markdown",
      "source": [
        "# 9. np.max()"
      ],
      "metadata": {
        "id": "MOps4MTtBcVW"
      }
    },
    {
      "cell_type": "code",
      "source": [
        "# taking max of t\n",
        "np.max(t)"
      ],
      "metadata": {
        "colab": {
          "base_uri": "https://localhost:8080/"
        },
        "id": "qbTLz6HvBccP",
        "outputId": "db19638f-03e6-4a82-8947-7891a6f5138f"
      },
      "execution_count": null,
      "outputs": [
        {
          "output_type": "execute_result",
          "data": {
            "text/plain": [
              "11"
            ]
          },
          "metadata": {},
          "execution_count": 46
        }
      ]
    },
    {
      "cell_type": "markdown",
      "source": [
        "# 10. np.argmax()"
      ],
      "metadata": {
        "id": "P3pYHcTFBckj"
      }
    },
    {
      "cell_type": "code",
      "source": [
        "# returning index of maximum\n",
        "np.argmax(x)\n"
      ],
      "metadata": {
        "colab": {
          "base_uri": "https://localhost:8080/"
        },
        "id": "XHTwc5OGBcro",
        "outputId": "5a68b063-8d44-4910-f0f0-90147aa43676"
      },
      "execution_count": null,
      "outputs": [
        {
          "output_type": "execute_result",
          "data": {
            "text/plain": [
              "1"
            ]
          },
          "metadata": {},
          "execution_count": 47
        }
      ]
    },
    {
      "cell_type": "code",
      "source": [
        "np.argmax(x,axis = 1)"
      ],
      "metadata": {
        "colab": {
          "base_uri": "https://localhost:8080/"
        },
        "id": "qTDrNEZuK5ZA",
        "outputId": "7898df23-a89b-4533-8ea3-cf91697028fe"
      },
      "execution_count": null,
      "outputs": [
        {
          "output_type": "execute_result",
          "data": {
            "text/plain": [
              "array([1, 1, 2])"
            ]
          },
          "metadata": {},
          "execution_count": 48
        }
      ]
    },
    {
      "cell_type": "markdown",
      "source": [
        "# 11. \tnp.argmin()"
      ],
      "metadata": {
        "id": "XbFN3rPsBczg"
      }
    },
    {
      "cell_type": "code",
      "source": [
        "# returning index of minimum\n",
        "np.argmin(x)\n"
      ],
      "metadata": {
        "colab": {
          "base_uri": "https://localhost:8080/"
        },
        "id": "R_e9W-opK4q4",
        "outputId": "162a2e82-d1d3-43c4-ee36-27c6105b813b"
      },
      "execution_count": null,
      "outputs": [
        {
          "output_type": "execute_result",
          "data": {
            "text/plain": [
              "0"
            ]
          },
          "metadata": {},
          "execution_count": 49
        }
      ]
    },
    {
      "cell_type": "code",
      "source": [
        "np.argmin(x,axis = 1)"
      ],
      "metadata": {
        "colab": {
          "base_uri": "https://localhost:8080/"
        },
        "id": "bNGxhZS_Bc7n",
        "outputId": "19290393-8a19-45e9-974a-61cccd063174"
      },
      "execution_count": null,
      "outputs": [
        {
          "output_type": "execute_result",
          "data": {
            "text/plain": [
              "array([0, 0, 0])"
            ]
          },
          "metadata": {},
          "execution_count": 50
        }
      ]
    },
    {
      "cell_type": "markdown",
      "source": [
        "# 12.\tnp.random.rand()"
      ],
      "metadata": {
        "id": "KWZ0KXpfBdE_"
      }
    },
    {
      "cell_type": "code",
      "source": [
        "# creating a random array with values in range 0 to 1\n",
        "r1 = np.random.rand(3,4)"
      ],
      "metadata": {
        "id": "yIYRS0AtBdMx"
      },
      "execution_count": 8,
      "outputs": []
    },
    {
      "cell_type": "code",
      "source": [
        "r1"
      ],
      "metadata": {
        "id": "MPqQmrljL7qh",
        "colab": {
          "base_uri": "https://localhost:8080/"
        },
        "outputId": "f69500b5-94aa-4f07-f5d8-3fbc2056b7db"
      },
      "execution_count": 9,
      "outputs": [
        {
          "output_type": "execute_result",
          "data": {
            "text/plain": [
              "array([[0.2318537 , 0.63707914, 0.40796786, 0.95357841],\n",
              "       [0.74266606, 0.0739456 , 0.58601662, 0.53822081],\n",
              "       [0.53244471, 0.88781288, 0.0697255 , 0.25292916]])"
            ]
          },
          "metadata": {},
          "execution_count": 9
        }
      ]
    },
    {
      "cell_type": "markdown",
      "source": [
        "# 13. \tnp.random.randn()"
      ],
      "metadata": {
        "id": "3hvFn-DFE8pe"
      }
    },
    {
      "cell_type": "code",
      "source": [
        "# Creating a random array\n",
        "r2 = np.random.randn(4,3)"
      ],
      "metadata": {
        "id": "Vw_zFVJJE8xk"
      },
      "execution_count": 10,
      "outputs": []
    },
    {
      "cell_type": "code",
      "source": [
        "r2"
      ],
      "metadata": {
        "id": "pXLLVokVL_x3",
        "colab": {
          "base_uri": "https://localhost:8080/"
        },
        "outputId": "4c23d846-61bd-49bd-8047-50f6902a8bba"
      },
      "execution_count": 7,
      "outputs": [
        {
          "output_type": "execute_result",
          "data": {
            "text/plain": [
              "array([[-0.35798494, -0.13008043,  1.40482193],\n",
              "       [ 0.87914395,  0.78375176, -0.42305281],\n",
              "       [ 0.93678905, -0.33162212,  0.16113865],\n",
              "       [-0.86830682, -0.22395716,  0.82208346]])"
            ]
          },
          "metadata": {},
          "execution_count": 7
        }
      ]
    },
    {
      "cell_type": "markdown",
      "source": [
        "\n",
        "\n",
        "\n",
        "# 14. \tnp.random.randint()"
      ],
      "metadata": {
        "id": "T03INXisE89Y"
      }
    },
    {
      "cell_type": "code",
      "source": [
        "# Creating a random integers in range\n",
        "rr = np.random.randint(1,8,size=(4,3))"
      ],
      "metadata": {
        "id": "F2nauck5E9GQ"
      },
      "execution_count": 16,
      "outputs": []
    },
    {
      "cell_type": "code",
      "source": [
        "rr"
      ],
      "metadata": {
        "colab": {
          "base_uri": "https://localhost:8080/"
        },
        "id": "BfCWPt2zOH4l",
        "outputId": "2de7bddf-7350-4a67-aa91-3c21e36b7f34"
      },
      "execution_count": 17,
      "outputs": [
        {
          "output_type": "execute_result",
          "data": {
            "text/plain": [
              "array([[5, 4, 1],\n",
              "       [5, 2, 6],\n",
              "       [1, 5, 3],\n",
              "       [6, 3, 2]])"
            ]
          },
          "metadata": {},
          "execution_count": 17
        }
      ]
    },
    {
      "cell_type": "markdown",
      "source": [
        "# 15. np.dot()"
      ],
      "metadata": {
        "id": "42di4hkAFNN0"
      }
    },
    {
      "cell_type": "code",
      "source": [
        "#Multiplying 2 matrix\n",
        "d1 = np.dot(r1,r2)"
      ],
      "metadata": {
        "id": "udwwFdlHFNbm"
      },
      "execution_count": 21,
      "outputs": []
    },
    {
      "cell_type": "code",
      "source": [
        "d1"
      ],
      "metadata": {
        "colab": {
          "base_uri": "https://localhost:8080/"
        },
        "id": "vh-cyte_O1JM",
        "outputId": "51b6ebf5-24dd-4ebb-9990-4a7f7d632dca"
      },
      "execution_count": 22,
      "outputs": [
        {
          "output_type": "execute_result",
          "data": {
            "text/plain": [
              "array([[-0.22771562, -0.61021499,  0.33346   ],\n",
              "       [ 0.52512514, -0.60492807,  0.05985818],\n",
              "       [-0.53201707, -0.93741722,  1.25051286]])"
            ]
          },
          "metadata": {},
          "execution_count": 22
        }
      ]
    },
    {
      "cell_type": "code",
      "source": [],
      "metadata": {
        "id": "9wFypXgVO6Hf"
      },
      "execution_count": null,
      "outputs": []
    }
  ]
}